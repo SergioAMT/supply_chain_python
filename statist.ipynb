{
 "cells": [
  {
   "cell_type": "code",
   "execution_count": 2,
   "id": "0887426b",
   "metadata": {},
   "outputs": [],
   "source": [
    "import numpy as np\n",
    "import pandas as pd\n",
    "from scipy import stats\n"
   ]
  },
  {
   "cell_type": "code",
   "execution_count": 3,
   "id": "484c7652",
   "metadata": {},
   "outputs": [
    {
     "name": "stdout",
     "output_type": "stream",
     "text": [
      "Media: 5.0\n",
      "Mediana: 4.5\n",
      "Moda: 4  (frecuencia: 3 )\n"
     ]
    }
   ],
   "source": [
    "data = np.array([2, 4, 4, 4, 5, 5, 7, 9])\n",
    "media = np.mean(data)\n",
    "mediana = np.median(data)\n",
    "moda = stats.mode(data, keepdims=True)\n",
    "\n",
    "print(\"Media:\", media)\n",
    "print(\"Mediana:\", mediana)\n",
    "print(\"Moda:\", moda.mode[0], \" (frecuencia:\", moda.count[0], \")\")\n"
   ]
  },
  {
   "cell_type": "code",
   "execution_count": 4,
   "id": "838bdf54",
   "metadata": {},
   "outputs": [
    {
     "name": "stdout",
     "output_type": "stream",
     "text": [
      "Percentil 25 (Q1): 4.0\n",
      "Percentil 50 (Mediana): 4.5\n",
      "Percentil 75 (Q3): 5.5\n"
     ]
    }
   ],
   "source": [
    "percentil_25 = np.percentile(data, 25)\n",
    "percentil_50 = np.percentile(data, 50)  # Mediana\n",
    "percentil_75 = np.percentile(data, 75)\n",
    "\n",
    "print(\"Percentil 25 (Q1):\", percentil_25)\n",
    "print(\"Percentil 50 (Mediana):\", percentil_50)\n",
    "print(\"Percentil 75 (Q3):\", percentil_75)\n"
   ]
  },
  {
   "cell_type": "code",
   "execution_count": 5,
   "id": "c4c892de",
   "metadata": {},
   "outputs": [
    {
     "name": "stdout",
     "output_type": "stream",
     "text": [
      "Varianza muestral: 4.571428571428571\n",
      "Desviación estándar: 2.138089935299395\n"
     ]
    }
   ],
   "source": [
    "varianza = np.var(data, ddof=1)  # ddof=1 para muestra\n",
    "desviacion = np.std(data, ddof=1)\n",
    "\n",
    "print(\"Varianza muestral:\", varianza)\n",
    "print(\"Desviación estándar:\", desviacion)\n"
   ]
  },
  {
   "cell_type": "code",
   "execution_count": 6,
   "id": "f83c07e0",
   "metadata": {},
   "outputs": [
    {
     "name": "stdout",
     "output_type": "stream",
     "text": [
      "IQR (Q3 - Q1): 1.5\n"
     ]
    }
   ],
   "source": [
    "iqr = stats.iqr(data)\n",
    "print(\"IQR (Q3 - Q1):\", iqr)\n"
   ]
  },
  {
   "cell_type": "code",
   "execution_count": 7,
   "id": "dd89894e",
   "metadata": {},
   "outputs": [
    {
     "name": "stdout",
     "output_type": "stream",
     "text": [
      "Covarianza: 5.0\n",
      "Correlación de Pearson: 0.9999999999999999\n"
     ]
    }
   ],
   "source": [
    "x = np.array([1, 2, 3, 4, 5])\n",
    "y = np.array([2, 4, 6, 8, 10])  # Relación lineal perfecta\n",
    "# Covarianza\n",
    "covarianza = np.cov(x, y, ddof=1)[0, 1]\n",
    "\n",
    "# Correlación de Pearson\n",
    "correlacion = np.corrcoef(x, y)[0, 1]\n",
    "\n",
    "print(\"Covarianza:\", covarianza)\n",
    "print(\"Correlación de Pearson:\", correlacion)\n"
   ]
  },
  {
   "cell_type": "code",
   "execution_count": 8,
   "id": "9c15586a",
   "metadata": {},
   "outputs": [
    {
     "data": {
      "image/png": "[encoded data removed]",
      "text/plain": [
       "<Figure size 640x480 with 1 Axes>"
      ]
     },
     "metadata": {},
     "output_type": "display_data"
    }
   ],
   "source": [
    "import matplotlib.pyplot as plt\n",
    "\n",
    "plt.scatter(x, y)\n",
    "plt.title(\"Relación entre X e Y\")\n",
    "plt.xlabel(\"X\")\n",
    "plt.ylabel(\"Y\")\n",
    "plt.grid(True)\n",
    "plt.show()\n"
   ]
  }
 ],
 "metadata": {
  "kernelspec": {
   "display_name": "Python 3",
   "language": "python",
   "name": "python3"
  },
  "language_info": {
   "codemirror_mode": {
    "name": "ipython",
    "version": 3
   },
   "file_extension": ".py",
   "mimetype": "text/x-python",
   "name": "python",
   "nbconvert_exporter": "python",
   "pygments_lexer": "ipython3",
   "version": "3.11.4"
  }
 },
 "nbformat": 4,
 "nbformat_minor": 5
}
